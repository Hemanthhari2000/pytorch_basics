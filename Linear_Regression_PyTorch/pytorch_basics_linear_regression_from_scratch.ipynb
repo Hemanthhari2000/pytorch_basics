{
 "cells": [
  {
   "cell_type": "markdown",
   "id": "5d6558c5",
   "metadata": {},
   "source": [
    "# Linear Regression using PyTorch with custom data from scratch."
   ]
  },
  {
   "cell_type": "code",
   "execution_count": 2,
   "id": "a288fa8f",
   "metadata": {},
   "outputs": [],
   "source": [
    "import torch\n",
    "import numpy as np"
   ]
  },
  {
   "cell_type": "code",
   "execution_count": 3,
   "id": "d002a7ab",
   "metadata": {},
   "outputs": [],
   "source": [
    "# Create your training data\n",
    "\n",
    "# (temp, rainfall, humidity)\n",
    "\n",
    "inputs = np.array([[73, 67, 43], \n",
    "                   [91, 88, 64], \n",
    "                   [87, 134, 58], \n",
    "                   [102, 43, 37], \n",
    "                   [69, 96, 70]], dtype='float32')"
   ]
  },
  {
   "cell_type": "code",
   "execution_count": 4,
   "id": "f7446654",
   "metadata": {},
   "outputs": [],
   "source": [
    "# Create your Targets\n",
    "\n",
    "# (apples, oranges)\n",
    "\n",
    "targets = np.array([[56, 70],\n",
    "                   [81, 101], \n",
    "                   [119, 133],\n",
    "                   [22, 37],\n",
    "                   [103, 119]], dtype = 'float32')"
   ]
  },
  {
   "cell_type": "code",
   "execution_count": 5,
   "id": "9c3d1e72",
   "metadata": {},
   "outputs": [
    {
     "name": "stdout",
     "output_type": "stream",
     "text": [
      "tensor([[ 73.,  67.,  43.],\n",
      "        [ 91.,  88.,  64.],\n",
      "        [ 87., 134.,  58.],\n",
      "        [102.,  43.,  37.],\n",
      "        [ 69.,  96.,  70.]])\n",
      "tensor([[ 56.,  70.],\n",
      "        [ 81., 101.],\n",
      "        [119., 133.],\n",
      "        [ 22.,  37.],\n",
      "        [103., 119.]])\n"
     ]
    }
   ],
   "source": [
    "inputs = torch.from_numpy(inputs)\n",
    "targets = torch.from_numpy(targets)\n",
    "\n",
    "print(inputs)\n",
    "print(targets)"
   ]
  },
  {
   "cell_type": "markdown",
   "id": "c504f6ea",
   "metadata": {},
   "source": [
    "### Set up your weights and biases"
   ]
  },
  {
   "cell_type": "markdown",
   "id": "9bb589b2",
   "metadata": {},
   "source": [
    "we have the equation as \n",
    "\n",
    "`y (Apples) = w11 * temp + w12 * rainfall + w13 * humidity + b1`\n",
    "\n",
    "`y (Apples) = w21 * temp + w22 * rainfall + w23 * humidity + b2`"
   ]
  },
  {
   "cell_type": "code",
   "execution_count": 6,
   "id": "66477aa1",
   "metadata": {},
   "outputs": [
    {
     "name": "stdout",
     "output_type": "stream",
     "text": [
      "tensor([[-2.3197,  1.9741, -1.8741],\n",
      "        [-0.7245, -1.4532, -1.1253]], requires_grad=True)\n",
      "tensor([-0.1157,  0.8850], requires_grad=True)\n"
     ]
    }
   ],
   "source": [
    "# cause we have 2 rows and 3 columns for our weights.\n",
    "w = torch.randn(2, 3, requires_grad=True)\n",
    "# cause we have 2 biases\n",
    "b = torch.randn(2, requires_grad=True)\n",
    "\n",
    "print(w)\n",
    "print(b)"
   ]
  },
  {
   "cell_type": "markdown",
   "id": "1c232102",
   "metadata": {},
   "source": [
    "`.randn()` uses Normal Distribution with mean 0 and standard deviation 1"
   ]
  },
  {
   "cell_type": "code",
   "execution_count": 7,
   "id": "e1fb21f3",
   "metadata": {},
   "outputs": [],
   "source": [
    "# Define the model\n",
    "def model(x):\n",
    "    return x @ w.t() + b"
   ]
  },
  {
   "cell_type": "markdown",
   "id": "497429b7",
   "metadata": {},
   "source": [
    "Here, `@` represents matrix multiplication in pytorch and `.t()` represents transpose of a matrix."
   ]
  },
  {
   "cell_type": "code",
   "execution_count": 8,
   "id": "7415ec70",
   "metadata": {},
   "outputs": [
    {
     "name": "stdout",
     "output_type": "stream",
     "text": [
      "tensor([[-117.7744, -197.7606],\n",
      "        [-157.4288, -264.9516],\n",
      "        [ -46.0947, -322.1504],\n",
      "        [-221.1807, -177.1424],\n",
      "        [-101.8467, -267.3897]], grad_fn=<AddBackward0>)\n"
     ]
    }
   ],
   "source": [
    "# Generate Predictions\n",
    "preds = model(inputs)\n",
    "print(preds)"
   ]
  },
  {
   "cell_type": "code",
   "execution_count": 9,
   "id": "4c03e73a",
   "metadata": {},
   "outputs": [
    {
     "name": "stdout",
     "output_type": "stream",
     "text": [
      "tensor([[ 56.,  70.],\n",
      "        [ 81., 101.],\n",
      "        [119., 133.],\n",
      "        [ 22.,  37.],\n",
      "        [103., 119.]])\n"
     ]
    }
   ],
   "source": [
    "print(targets)"
   ]
  },
  {
   "cell_type": "markdown",
   "id": "aa1c5f15",
   "metadata": {},
   "source": [
    "## Loss Function"
   ]
  },
  {
   "cell_type": "code",
   "execution_count": 10,
   "id": "43905d7e",
   "metadata": {},
   "outputs": [],
   "source": [
    "# Define Mean Squared Error Loss Function\n",
    "def mse(t1, t2):\n",
    "    diff = t1 - t2\n",
    "    return torch.sum(diff * diff) / diff.numel()"
   ]
  },
  {
   "cell_type": "markdown",
   "id": "bc002a4d",
   "metadata": {},
   "source": [
    "This `.numel()` gives us the number of elements in the array."
   ]
  },
  {
   "cell_type": "code",
   "execution_count": 11,
   "id": "41788c60",
   "metadata": {},
   "outputs": [
    {
     "name": "stdout",
     "output_type": "stream",
     "text": [
      "tensor(82333.3281, grad_fn=<DivBackward0>)\n"
     ]
    }
   ],
   "source": [
    "# Compute Loss\n",
    "loss = mse(preds, targets)\n",
    "print(loss)"
   ]
  },
  {
   "cell_type": "markdown",
   "id": "dfc75a26",
   "metadata": {},
   "source": [
    "# Compute Gradients"
   ]
  },
  {
   "cell_type": "code",
   "execution_count": 12,
   "id": "6682b2ed",
   "metadata": {},
   "outputs": [],
   "source": [
    "loss.backward()"
   ]
  },
  {
   "cell_type": "code",
   "execution_count": 13,
   "id": "b93e9d97",
   "metadata": {},
   "outputs": [
    {
     "name": "stdout",
     "output_type": "stream",
     "text": [
      "tensor([[-2.3197,  1.9741, -1.8741],\n",
      "        [-0.7245, -1.4532, -1.1253]], requires_grad=True)\n",
      "tensor([[-17536.9297, -16973.8730, -11128.8379],\n",
      "        [-28189.9238, -31487.0762, -19260.7754]])\n"
     ]
    }
   ],
   "source": [
    "print(w)\n",
    "print(w.grad)"
   ]
  },
  {
   "cell_type": "markdown",
   "id": "ad82a5c4",
   "metadata": {},
   "source": [
    "Note that \n",
    "\n",
    "If a gradient element is positive:\n",
    "\n",
    "* **increasing** the weight element's value slightly will **increase** the loss\n",
    "* **decreasing** the weight element's value slightly will **decrease** the loss\n",
    "\n",
    "If a gradient element is negative:\n",
    "\n",
    "* **increasing** the weight element's value slightly will **decrease** the loss\n",
    "* **decreasing** the weight element's value slightly will **increase** the loss"
   ]
  },
  {
   "cell_type": "code",
   "execution_count": 14,
   "id": "fdaa3372",
   "metadata": {},
   "outputs": [
    {
     "data": {
      "text/plain": [
       "tensor([[-17536.9297, -16973.8730, -11128.8379],\n",
       "        [-28189.9238, -31487.0762, -19260.7754]])"
      ]
     },
     "execution_count": 14,
     "metadata": {},
     "output_type": "execute_result"
    }
   ],
   "source": [
    "w\n",
    "w.grad"
   ]
  },
  {
   "cell_type": "code",
   "execution_count": 15,
   "id": "72a1c6cf",
   "metadata": {},
   "outputs": [],
   "source": [
    "with torch.no_grad():\n",
    "    w -= w.grad * 1e-7\n",
    "    b -= b.grad * 1e-7"
   ]
  },
  {
   "cell_type": "markdown",
   "id": "3bf89920",
   "metadata": {},
   "source": [
    "`torch.no_grad()` holds or stops the gradients to store in the variable for a bit.\n",
    "\n",
    "We use `torch.no_grad` to indicate to PyTorch that we shouldn't track, calculate, or modify gradients while updating the weights and biases."
   ]
  },
  {
   "cell_type": "code",
   "execution_count": 16,
   "id": "4e5d2883",
   "metadata": {},
   "outputs": [
    {
     "name": "stdout",
     "output_type": "stream",
     "text": [
      "tensor(82333.3281, grad_fn=<DivBackward0>)\n"
     ]
    }
   ],
   "source": [
    "loss = mse(preds, targets)\n",
    "print(loss)"
   ]
  },
  {
   "cell_type": "markdown",
   "id": "ac835d3a",
   "metadata": {},
   "source": [
    "we need to set the gradients back to zero or else Torch will accumulate it by computing new gradients and filling it again and again.\n",
    "\n",
    "so we use `.zero_()` method to set gradients to zero."
   ]
  },
  {
   "cell_type": "code",
   "execution_count": 17,
   "id": "5b8cefb8",
   "metadata": {},
   "outputs": [
    {
     "name": "stdout",
     "output_type": "stream",
     "text": [
      "tensor([[0., 0., 0.],\n",
      "        [0., 0., 0.]])\n",
      "tensor([0., 0.])\n"
     ]
    }
   ],
   "source": [
    "w.grad.zero_()\n",
    "b.grad.zero_()\n",
    "print(w.grad)\n",
    "print(b.grad)"
   ]
  },
  {
   "cell_type": "markdown",
   "id": "7290dfcd",
   "metadata": {},
   "source": [
    "# Using Gradient Descent altogether"
   ]
  },
  {
   "cell_type": "markdown",
   "id": "208e21fe",
   "metadata": {},
   "source": [
    "steps to achive it \n",
    "\n",
    "* Generate predictions\n",
    "*Calculate the loss\n",
    "*Compute gradients w.r.t the weights and biases\n",
    "*Adjust the weights by subtracting a small quantity proportional to the gradient\n",
    "*Reset the gradients to z"
   ]
  },
  {
   "cell_type": "code",
   "execution_count": 19,
   "id": "9eb8bc6f",
   "metadata": {},
   "outputs": [
    {
     "name": "stdout",
     "output_type": "stream",
     "text": [
      "tensor([[-117.4848, -197.2610],\n",
      "        [-157.0486, -264.2946],\n",
      "        [ -45.6501, -321.3715],\n",
      "        [-220.8877, -176.6482],\n",
      "        [-101.4848, -266.7581]], grad_fn=<AddBackward0>)\n"
     ]
    }
   ],
   "source": [
    "preds = model(inputs)\n",
    "print(preds)"
   ]
  },
  {
   "cell_type": "code",
   "execution_count": 20,
   "id": "44f753f3",
   "metadata": {},
   "outputs": [
    {
     "name": "stdout",
     "output_type": "stream",
     "text": [
      "tensor(82045.9219, grad_fn=<DivBackward0>)\n"
     ]
    }
   ],
   "source": [
    "loss = mse(preds, targets)\n",
    "print(loss)"
   ]
  },
  {
   "cell_type": "code",
   "execution_count": 21,
   "id": "eec3a8ea",
   "metadata": {},
   "outputs": [
    {
     "name": "stdout",
     "output_type": "stream",
     "text": [
      "tensor([[-17507.0723, -16941.9160, -11109.0879],\n",
      "        [-28138.3203, -31431.5703, -19226.5352]])\n",
      "tensor([-204.7112, -337.2667])\n"
     ]
    }
   ],
   "source": [
    "# compute gradients\n",
    "loss.backward()\n",
    "print(w.grad)\n",
    "print(b.grad)"
   ]
  },
  {
   "cell_type": "code",
   "execution_count": 22,
   "id": "a7f1a7a2",
   "metadata": {},
   "outputs": [],
   "source": [
    "# adjust the weight element to decrese the weight derivative.\n",
    "with torch.no_grad():\n",
    "    w -= w.grad * 1e-7\n",
    "    b -= b.grad * 1e-7\n",
    "    w.grad.zero_()\n",
    "    b.grad.zero_()"
   ]
  },
  {
   "cell_type": "code",
   "execution_count": 23,
   "id": "0174c79a",
   "metadata": {},
   "outputs": [
    {
     "name": "stdout",
     "output_type": "stream",
     "text": [
      "tensor([[-2.3162,  1.9775, -1.8719],\n",
      "        [-0.7189, -1.4469, -1.1215]], requires_grad=True)\n",
      "tensor([-0.1156,  0.8850], requires_grad=True)\n"
     ]
    }
   ],
   "source": [
    "print(w)\n",
    "print(b)"
   ]
  },
  {
   "cell_type": "code",
   "execution_count": 25,
   "id": "3f343049",
   "metadata": {},
   "outputs": [
    {
     "name": "stdout",
     "output_type": "stream",
     "text": [
      "tensor(81759.5234, grad_fn=<DivBackward0>)\n"
     ]
    }
   ],
   "source": [
    "# Calculate the loss again\n",
    "preds = model(inputs)\n",
    "loss = mse(preds, targets)\n",
    "print(loss)"
   ]
  },
  {
   "cell_type": "markdown",
   "id": "6d38f3e5",
   "metadata": {},
   "source": [
    "# Train for multiple Epochs"
   ]
  },
  {
   "cell_type": "code",
   "execution_count": 37,
   "id": "8c45f962",
   "metadata": {},
   "outputs": [],
   "source": [
    "for i in range(500):\n",
    "    preds = model(inputs)\n",
    "    loss = mse(preds, targets)\n",
    "    loss.backward()\n",
    "    with torch.no_grad():\n",
    "        w -= w.grad * 1e-5\n",
    "        b -= b.grad * 1e-5\n",
    "        w.grad.zero_()\n",
    "        b.grad.zero_()"
   ]
  },
  {
   "cell_type": "code",
   "execution_count": 38,
   "id": "bdc3a527",
   "metadata": {},
   "outputs": [
    {
     "name": "stdout",
     "output_type": "stream",
     "text": [
      "tensor(1.5969, grad_fn=<DivBackward0>)\n"
     ]
    }
   ],
   "source": [
    "# Calculate Loss\n",
    "preds = model(inputs)\n",
    "loss = mse(preds, targets)\n",
    "print(loss)"
   ]
  },
  {
   "cell_type": "code",
   "execution_count": 39,
   "id": "0d71c406",
   "metadata": {},
   "outputs": [
    {
     "data": {
      "text/plain": [
       "tensor([[ 57.2644,  70.5063],\n",
       "        [ 81.2627, 100.1848],\n",
       "        [120.6806, 133.7482],\n",
       "        [ 21.6394,  37.2244],\n",
       "        [ 99.9354, 118.3488]], grad_fn=<AddBackward0>)"
      ]
     },
     "execution_count": 39,
     "metadata": {},
     "output_type": "execute_result"
    }
   ],
   "source": [
    "preds"
   ]
  },
  {
   "cell_type": "code",
   "execution_count": 40,
   "id": "fb10ebc9",
   "metadata": {},
   "outputs": [
    {
     "data": {
      "text/plain": [
       "tensor([[ 56.,  70.],\n",
       "        [ 81., 101.],\n",
       "        [119., 133.],\n",
       "        [ 22.,  37.],\n",
       "        [103., 119.]])"
      ]
     },
     "execution_count": 40,
     "metadata": {},
     "output_type": "execute_result"
    }
   ],
   "source": [
    "targets"
   ]
  },
  {
   "cell_type": "markdown",
   "id": "1a07a570",
   "metadata": {},
   "source": [
    "# Commit to Jovian"
   ]
  },
  {
   "cell_type": "code",
   "execution_count": 46,
   "id": "356b6cb1",
   "metadata": {},
   "outputs": [],
   "source": [
    "import jovian"
   ]
  },
  {
   "cell_type": "code",
   "execution_count": 47,
   "id": "147001dc",
   "metadata": {},
   "outputs": [
    {
     "data": {
      "application/javascript": [
       "window.require && require([\"base/js/namespace\"],function(Jupyter){Jupyter.notebook.save_checkpoint()})"
      ],
      "text/plain": [
       "<IPython.core.display.Javascript object>"
      ]
     },
     "metadata": {},
     "output_type": "display_data"
    },
    {
     "name": "stdout",
     "output_type": "stream",
     "text": [
      "[jovian] Attempting to save notebook..\n",
      "[jovian] Creating a new project \"hemanthhari2000/pytorch_linear_regression_from_scratch\"\n",
      "[jovian] Uploading notebook..\n",
      "[jovian] Capturing environment..\n",
      "[jovian] Committed successfully! https://jovian.ai/hemanthhari2000/pytorch-linear-regression-from-scratch\n"
     ]
    },
    {
     "data": {
      "text/plain": [
       "'https://jovian.ai/hemanthhari2000/pytorch-linear-regression-from-scratch'"
      ]
     },
     "execution_count": 47,
     "metadata": {},
     "output_type": "execute_result"
    }
   ],
   "source": [
    "jovian.commit(project='pytorch_linear_regression_from_scratch')"
   ]
  }
 ],
 "metadata": {
  "kernelspec": {
   "display_name": "Python 3",
   "language": "python",
   "name": "python3"
  },
  "language_info": {
   "codemirror_mode": {
    "name": "ipython",
    "version": 3
   },
   "file_extension": ".py",
   "mimetype": "text/x-python",
   "name": "python",
   "nbconvert_exporter": "python",
   "pygments_lexer": "ipython3",
   "version": "3.7.10"
  }
 },
 "nbformat": 4,
 "nbformat_minor": 5
}
