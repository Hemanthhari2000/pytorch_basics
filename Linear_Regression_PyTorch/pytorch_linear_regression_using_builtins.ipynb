{
 "cells": [
  {
   "cell_type": "markdown",
   "id": "f28f1f55",
   "metadata": {},
   "source": [
    "# Linear Regression using PyTorch Built-ins"
   ]
  },
  {
   "cell_type": "code",
   "execution_count": 1,
   "id": "31f2e021",
   "metadata": {},
   "outputs": [],
   "source": [
    "import torch\n",
    "import torch.nn as nn\n",
    "import numpy as np"
   ]
  },
  {
   "cell_type": "code",
   "execution_count": 2,
   "id": "c515d724",
   "metadata": {},
   "outputs": [],
   "source": [
    "# Input (temp, rainfall, humidity)\n",
    "inputs = np.array([[73, 67, 43], \n",
    "                   [91, 88, 64], \n",
    "                   [87, 134, 58], \n",
    "                   [102, 43, 37], \n",
    "                   [69, 96, 70], \n",
    "                   [74, 66, 43], \n",
    "                   [91, 87, 65], \n",
    "                   [88, 134, 59], \n",
    "                   [101, 44, 37], \n",
    "                   [68, 96, 71], \n",
    "                   [73, 66, 44], \n",
    "                   [92, 87, 64], \n",
    "                   [87, 135, 57], \n",
    "                   [103, 43, 36], \n",
    "                   [68, 97, 70]], \n",
    "                  dtype='float32')\n",
    "\n",
    "# Targets (apples, oranges)\n",
    "targets = np.array([[56, 70], \n",
    "                    [81, 101], \n",
    "                    [119, 133], \n",
    "                    [22, 37], \n",
    "                    [103, 119],\n",
    "                    [57, 69], \n",
    "                    [80, 102], \n",
    "                    [118, 132], \n",
    "                    [21, 38], \n",
    "                    [104, 118], \n",
    "                    [57, 69], \n",
    "                    [82, 100], \n",
    "                    [118, 134], \n",
    "                    [20, 38], \n",
    "                    [102, 120]], \n",
    "                   dtype='float32')\n",
    "\n",
    "inputs = torch.from_numpy(inputs)\n",
    "targets = torch.from_numpy(targets)"
   ]
  },
  {
   "cell_type": "code",
   "execution_count": 3,
   "id": "4183641c",
   "metadata": {},
   "outputs": [
    {
     "data": {
      "text/plain": [
       "tensor([[ 73.,  67.,  43.],\n",
       "        [ 91.,  88.,  64.],\n",
       "        [ 87., 134.,  58.],\n",
       "        [102.,  43.,  37.],\n",
       "        [ 69.,  96.,  70.],\n",
       "        [ 74.,  66.,  43.],\n",
       "        [ 91.,  87.,  65.],\n",
       "        [ 88., 134.,  59.],\n",
       "        [101.,  44.,  37.],\n",
       "        [ 68.,  96.,  71.],\n",
       "        [ 73.,  66.,  44.],\n",
       "        [ 92.,  87.,  64.],\n",
       "        [ 87., 135.,  57.],\n",
       "        [103.,  43.,  36.],\n",
       "        [ 68.,  97.,  70.]])"
      ]
     },
     "execution_count": 3,
     "metadata": {},
     "output_type": "execute_result"
    }
   ],
   "source": [
    "inputs"
   ]
  },
  {
   "cell_type": "code",
   "execution_count": 4,
   "id": "66f6f258",
   "metadata": {},
   "outputs": [
    {
     "data": {
      "text/plain": [
       "torch.Size([15, 3])"
      ]
     },
     "execution_count": 4,
     "metadata": {},
     "output_type": "execute_result"
    }
   ],
   "source": [
    "inputs.shape"
   ]
  },
  {
   "cell_type": "code",
   "execution_count": 5,
   "id": "981a1b4a",
   "metadata": {},
   "outputs": [
    {
     "data": {
      "text/plain": [
       "tensor([[ 56.,  70.],\n",
       "        [ 81., 101.],\n",
       "        [119., 133.],\n",
       "        [ 22.,  37.],\n",
       "        [103., 119.],\n",
       "        [ 57.,  69.],\n",
       "        [ 80., 102.],\n",
       "        [118., 132.],\n",
       "        [ 21.,  38.],\n",
       "        [104., 118.],\n",
       "        [ 57.,  69.],\n",
       "        [ 82., 100.],\n",
       "        [118., 134.],\n",
       "        [ 20.,  38.],\n",
       "        [102., 120.]])"
      ]
     },
     "execution_count": 5,
     "metadata": {},
     "output_type": "execute_result"
    }
   ],
   "source": [
    "targets"
   ]
  },
  {
   "cell_type": "code",
   "execution_count": 6,
   "id": "22a4eafa",
   "metadata": {},
   "outputs": [],
   "source": [
    "from torch.utils.data import TensorDataset"
   ]
  },
  {
   "cell_type": "code",
   "execution_count": 7,
   "id": "3ce4a624",
   "metadata": {},
   "outputs": [
    {
     "data": {
      "text/plain": [
       "(tensor([[ 73.,  67.,  43.],\n",
       "         [ 91.,  88.,  64.],\n",
       "         [ 87., 134.,  58.],\n",
       "         [102.,  43.,  37.],\n",
       "         [ 69.,  96.,  70.],\n",
       "         [ 74.,  66.,  43.],\n",
       "         [ 91.,  87.,  65.],\n",
       "         [ 88., 134.,  59.],\n",
       "         [101.,  44.,  37.],\n",
       "         [ 68.,  96.,  71.],\n",
       "         [ 73.,  66.,  44.],\n",
       "         [ 92.,  87.,  64.],\n",
       "         [ 87., 135.,  57.],\n",
       "         [103.,  43.,  36.],\n",
       "         [ 68.,  97.,  70.]]),\n",
       " tensor([[ 56.,  70.],\n",
       "         [ 81., 101.],\n",
       "         [119., 133.],\n",
       "         [ 22.,  37.],\n",
       "         [103., 119.],\n",
       "         [ 57.,  69.],\n",
       "         [ 80., 102.],\n",
       "         [118., 132.],\n",
       "         [ 21.,  38.],\n",
       "         [104., 118.],\n",
       "         [ 57.,  69.],\n",
       "         [ 82., 100.],\n",
       "         [118., 134.],\n",
       "         [ 20.,  38.],\n",
       "         [102., 120.]]))"
      ]
     },
     "execution_count": 7,
     "metadata": {},
     "output_type": "execute_result"
    }
   ],
   "source": [
    "train_ds = TensorDataset(inputs, targets)\n",
    "train_ds[:]"
   ]
  },
  {
   "cell_type": "code",
   "execution_count": 8,
   "id": "02ef59a0",
   "metadata": {},
   "outputs": [],
   "source": [
    "from torch.utils.data import DataLoader"
   ]
  },
  {
   "cell_type": "code",
   "execution_count": 9,
   "id": "d54fce7e",
   "metadata": {},
   "outputs": [],
   "source": [
    "batch_size = 5\n",
    "train_dl = DataLoader(train_ds, batch_size, shuffle = True)"
   ]
  },
  {
   "cell_type": "code",
   "execution_count": 10,
   "id": "9b3823ed",
   "metadata": {},
   "outputs": [
    {
     "name": "stdout",
     "output_type": "stream",
     "text": [
      "batch: 1\n",
      "tensor([[103.,  43.,  36.],\n",
      "        [ 74.,  66.,  43.],\n",
      "        [ 91.,  87.,  65.],\n",
      "        [ 87., 134.,  58.],\n",
      "        [ 73.,  67.,  43.]])\n",
      "tensor([[ 20.,  38.],\n",
      "        [ 57.,  69.],\n",
      "        [ 80., 102.],\n",
      "        [119., 133.],\n",
      "        [ 56.,  70.]])\n",
      "========================================\n",
      "batch: 2\n",
      "tensor([[101.,  44.,  37.],\n",
      "        [102.,  43.,  37.],\n",
      "        [ 68.,  96.,  71.],\n",
      "        [ 91.,  88.,  64.],\n",
      "        [ 73.,  66.,  44.]])\n",
      "tensor([[ 21.,  38.],\n",
      "        [ 22.,  37.],\n",
      "        [104., 118.],\n",
      "        [ 81., 101.],\n",
      "        [ 57.,  69.]])\n",
      "========================================\n",
      "batch: 3\n",
      "tensor([[ 88., 134.,  59.],\n",
      "        [ 68.,  97.,  70.],\n",
      "        [ 69.,  96.,  70.],\n",
      "        [ 92.,  87.,  64.],\n",
      "        [ 87., 135.,  57.]])\n",
      "tensor([[118., 132.],\n",
      "        [102., 120.],\n",
      "        [103., 119.],\n",
      "        [ 82., 100.],\n",
      "        [118., 134.]])\n",
      "========================================\n"
     ]
    }
   ],
   "source": [
    "for bat, (xb, yb) in enumerate(train_dl):\n",
    "    print(f'batch: {bat+1}')\n",
    "    print(xb)\n",
    "    print(yb)\n",
    "    print('='*40)"
   ]
  },
  {
   "cell_type": "code",
   "execution_count": 11,
   "id": "01a87f0c",
   "metadata": {},
   "outputs": [
    {
     "name": "stdout",
     "output_type": "stream",
     "text": [
      "Parameter containing:\n",
      "tensor([[ 0.1686, -0.2022,  0.5454],\n",
      "        [ 0.2921,  0.3496, -0.1846]], requires_grad=True)\n",
      "Parameter containing:\n",
      "tensor([ 0.5671, -0.1382], requires_grad=True)\n"
     ]
    }
   ],
   "source": [
    "# Define the Model\n",
    "model = nn.Linear(3, 2)\n",
    "print(model.weight)\n",
    "print(model.bias)"
   ]
  },
  {
   "cell_type": "code",
   "execution_count": 12,
   "id": "9f0af0e1",
   "metadata": {},
   "outputs": [
    {
     "data": {
      "text/plain": [
       "[Parameter containing:\n",
       " tensor([[ 0.1686, -0.2022,  0.5454],\n",
       "         [ 0.2921,  0.3496, -0.1846]], requires_grad=True),\n",
       " Parameter containing:\n",
       " tensor([ 0.5671, -0.1382], requires_grad=True)]"
      ]
     },
     "execution_count": 12,
     "metadata": {},
     "output_type": "execute_result"
    }
   ],
   "source": [
    "list(model.parameters())"
   ]
  },
  {
   "cell_type": "markdown",
   "id": "419f41e1",
   "metadata": {},
   "source": [
    "This `model.parameters()` gives us the detailed info about the parameters that the model has."
   ]
  },
  {
   "cell_type": "code",
   "execution_count": 13,
   "id": "abfabf45",
   "metadata": {},
   "outputs": [
    {
     "data": {
      "text/plain": [
       "tensor([[22.7777, 36.6706],\n",
       "        [33.0189, 45.3939],\n",
       "        [19.7733, 61.4162],\n",
       "        [29.2457, 37.8564],\n",
       "        [30.9654, 40.6584],\n",
       "        [23.1484, 36.6130],\n",
       "        [33.7664, 44.8597],\n",
       "        [20.4872, 61.5236],\n",
       "        [28.8750, 37.9139],\n",
       "        [31.3422, 40.1818],\n",
       "        [23.5252, 36.1364],\n",
       "        [33.3896, 45.3363],\n",
       "        [19.0258, 61.9503],\n",
       "        [28.8689, 38.3330],\n",
       "        [30.5946, 40.7160]], grad_fn=<AddmmBackward>)"
      ]
     },
     "execution_count": 13,
     "metadata": {},
     "output_type": "execute_result"
    }
   ],
   "source": [
    "preds = model(inputs)\n",
    "preds"
   ]
  },
  {
   "cell_type": "markdown",
   "id": "dfd291bd",
   "metadata": {},
   "source": [
    "# Loss Function"
   ]
  },
  {
   "cell_type": "code",
   "execution_count": 14,
   "id": "c3e7d4c1",
   "metadata": {},
   "outputs": [],
   "source": [
    "import torch.nn.functional as F"
   ]
  },
  {
   "cell_type": "code",
   "execution_count": 15,
   "id": "26e53955",
   "metadata": {},
   "outputs": [],
   "source": [
    "loss_fn = F.mse_loss"
   ]
  },
  {
   "cell_type": "code",
   "execution_count": 16,
   "id": "bc007282",
   "metadata": {},
   "outputs": [
    {
     "name": "stdout",
     "output_type": "stream",
     "text": [
      "tensor(3381.0232, grad_fn=<MseLossBackward>)\n"
     ]
    }
   ],
   "source": [
    "loss = loss_fn(model(inputs), targets)\n",
    "print(loss)"
   ]
  },
  {
   "cell_type": "markdown",
   "id": "e7c6bca3",
   "metadata": {},
   "source": [
    "# Optimizer"
   ]
  },
  {
   "cell_type": "code",
   "execution_count": 17,
   "id": "3a762a48",
   "metadata": {},
   "outputs": [],
   "source": [
    "opt = torch.optim.SGD(model.parameters(), lr=1e-5)"
   ]
  },
  {
   "cell_type": "markdown",
   "id": "32098da0",
   "metadata": {},
   "source": [
    "# Train the Model"
   ]
  },
  {
   "cell_type": "code",
   "execution_count": 25,
   "id": "91bf0a4b",
   "metadata": {},
   "outputs": [],
   "source": [
    "# do the same as before\n",
    "\n",
    "def fit(num_epochs, model, loss_fn, opt, train_dl):\n",
    "    for epoch in range(num_epochs):\n",
    "        for xb, yb in train_dl:\n",
    "            pred = model(xb)\n",
    "            loss = loss_fn(pred, yb)\n",
    "            loss.backward()\n",
    "            opt.step()\n",
    "            opt.zero_grad()\n",
    "        if (epoch+1) % 10 == 0:\n",
    "            print(f'Epoch [{epoch+1}/{num_epochs}], Loss: {round(loss.item(), 3)}')"
   ]
  },
  {
   "cell_type": "markdown",
   "id": "dc0d70c0",
   "metadata": {},
   "source": [
    "# Fit the model"
   ]
  },
  {
   "cell_type": "code",
   "execution_count": 19,
   "id": "52895a91",
   "metadata": {},
   "outputs": [
    {
     "name": "stdout",
     "output_type": "stream",
     "text": [
      "Epoch [10/1000], Loss: 705.225\n",
      "Epoch [20/1000], Loss: 493.784\n",
      "Epoch [30/1000], Loss: 188.651\n",
      "Epoch [40/1000], Loss: 153.483\n",
      "Epoch [50/1000], Loss: 119.424\n",
      "Epoch [60/1000], Loss: 76.852\n",
      "Epoch [70/1000], Loss: 48.972\n",
      "Epoch [80/1000], Loss: 46.256\n",
      "Epoch [90/1000], Loss: 59.281\n",
      "Epoch [100/1000], Loss: 44.165\n",
      "Epoch [110/1000], Loss: 28.052\n",
      "Epoch [120/1000], Loss: 40.906\n",
      "Epoch [130/1000], Loss: 39.947\n",
      "Epoch [140/1000], Loss: 18.283\n",
      "Epoch [150/1000], Loss: 22.498\n",
      "Epoch [160/1000], Loss: 17.42\n",
      "Epoch [170/1000], Loss: 17.911\n",
      "Epoch [180/1000], Loss: 14.814\n",
      "Epoch [190/1000], Loss: 23.388\n",
      "Epoch [200/1000], Loss: 6.167\n",
      "Epoch [210/1000], Loss: 14.74\n",
      "Epoch [220/1000], Loss: 20.113\n",
      "Epoch [230/1000], Loss: 15.179\n",
      "Epoch [240/1000], Loss: 3.834\n",
      "Epoch [250/1000], Loss: 16.602\n",
      "Epoch [260/1000], Loss: 9.638\n",
      "Epoch [270/1000], Loss: 10.67\n",
      "Epoch [280/1000], Loss: 7.345\n",
      "Epoch [290/1000], Loss: 11.587\n",
      "Epoch [300/1000], Loss: 6.37\n",
      "Epoch [310/1000], Loss: 6.107\n",
      "Epoch [320/1000], Loss: 2.143\n",
      "Epoch [330/1000], Loss: 8.318\n",
      "Epoch [340/1000], Loss: 3.543\n",
      "Epoch [350/1000], Loss: 7.894\n",
      "Epoch [360/1000], Loss: 6.39\n",
      "Epoch [370/1000], Loss: 5.851\n",
      "Epoch [380/1000], Loss: 10.603\n",
      "Epoch [390/1000], Loss: 3.144\n",
      "Epoch [400/1000], Loss: 6.198\n",
      "Epoch [410/1000], Loss: 4.152\n",
      "Epoch [420/1000], Loss: 4.879\n",
      "Epoch [430/1000], Loss: 6.729\n",
      "Epoch [440/1000], Loss: 5.132\n",
      "Epoch [450/1000], Loss: 5.808\n",
      "Epoch [460/1000], Loss: 3.431\n",
      "Epoch [470/1000], Loss: 4.704\n",
      "Epoch [480/1000], Loss: 5.623\n",
      "Epoch [490/1000], Loss: 4.418\n",
      "Epoch [500/1000], Loss: 3.561\n",
      "Epoch [510/1000], Loss: 3.01\n",
      "Epoch [520/1000], Loss: 2.975\n",
      "Epoch [530/1000], Loss: 4.695\n",
      "Epoch [540/1000], Loss: 2.113\n",
      "Epoch [550/1000], Loss: 2.061\n",
      "Epoch [560/1000], Loss: 0.888\n",
      "Epoch [570/1000], Loss: 3.124\n",
      "Epoch [580/1000], Loss: 1.863\n",
      "Epoch [590/1000], Loss: 2.36\n",
      "Epoch [600/1000], Loss: 1.452\n",
      "Epoch [610/1000], Loss: 1.933\n",
      "Epoch [620/1000], Loss: 1.802\n",
      "Epoch [630/1000], Loss: 2.155\n",
      "Epoch [640/1000], Loss: 1.24\n",
      "Epoch [650/1000], Loss: 1.8\n",
      "Epoch [660/1000], Loss: 1.322\n",
      "Epoch [670/1000], Loss: 2.361\n",
      "Epoch [680/1000], Loss: 1.304\n",
      "Epoch [690/1000], Loss: 1.156\n",
      "Epoch [700/1000], Loss: 2.311\n",
      "Epoch [710/1000], Loss: 2.334\n",
      "Epoch [720/1000], Loss: 1.401\n",
      "Epoch [730/1000], Loss: 1.959\n",
      "Epoch [740/1000], Loss: 2.071\n",
      "Epoch [750/1000], Loss: 1.691\n",
      "Epoch [760/1000], Loss: 1.09\n",
      "Epoch [770/1000], Loss: 1.923\n",
      "Epoch [780/1000], Loss: 1.099\n",
      "Epoch [790/1000], Loss: 1.596\n",
      "Epoch [800/1000], Loss: 1.456\n",
      "Epoch [810/1000], Loss: 2.15\n",
      "Epoch [820/1000], Loss: 0.888\n",
      "Epoch [830/1000], Loss: 1.947\n",
      "Epoch [840/1000], Loss: 2.173\n",
      "Epoch [850/1000], Loss: 1.098\n",
      "Epoch [860/1000], Loss: 1.4\n",
      "Epoch [870/1000], Loss: 1.11\n",
      "Epoch [880/1000], Loss: 0.944\n",
      "Epoch [890/1000], Loss: 1.78\n",
      "Epoch [900/1000], Loss: 1.556\n",
      "Epoch [910/1000], Loss: 1.261\n",
      "Epoch [920/1000], Loss: 1.516\n",
      "Epoch [930/1000], Loss: 1.707\n",
      "Epoch [940/1000], Loss: 1.085\n",
      "Epoch [950/1000], Loss: 1.469\n",
      "Epoch [960/1000], Loss: 1.642\n",
      "Epoch [970/1000], Loss: 0.968\n",
      "Epoch [980/1000], Loss: 1.224\n",
      "Epoch [990/1000], Loss: 1.175\n",
      "Epoch [1000/1000], Loss: 0.783\n"
     ]
    }
   ],
   "source": [
    "fit(1000, model, loss_fn, opt, train_dl)"
   ]
  },
  {
   "cell_type": "code",
   "execution_count": 20,
   "id": "b071aaf1",
   "metadata": {},
   "outputs": [
    {
     "data": {
      "text/plain": [
       "tensor([[ 57.0451,  70.4021],\n",
       "        [ 82.0250, 100.2273],\n",
       "        [118.0895, 133.4540],\n",
       "        [ 20.7879,  37.9258],\n",
       "        [101.9742, 117.8352],\n",
       "        [ 55.7951,  69.3181],\n",
       "        [ 81.8865, 100.2656],\n",
       "        [118.3807, 134.0260],\n",
       "        [ 22.0379,  39.0098],\n",
       "        [103.0856, 118.9576],\n",
       "        [ 56.9065,  70.4404],\n",
       "        [ 80.7751,  99.1433],\n",
       "        [118.2281, 133.4157],\n",
       "        [ 19.6765,  36.8034],\n",
       "        [103.2241, 118.9193]], grad_fn=<AddmmBackward>)"
      ]
     },
     "execution_count": 20,
     "metadata": {},
     "output_type": "execute_result"
    }
   ],
   "source": [
    "preds = model(inputs)\n",
    "preds"
   ]
  },
  {
   "cell_type": "code",
   "execution_count": 21,
   "id": "c6e1cb46",
   "metadata": {},
   "outputs": [
    {
     "data": {
      "text/plain": [
       "tensor([[ 56.,  70.],\n",
       "        [ 81., 101.],\n",
       "        [119., 133.],\n",
       "        [ 22.,  37.],\n",
       "        [103., 119.],\n",
       "        [ 57.,  69.],\n",
       "        [ 80., 102.],\n",
       "        [118., 132.],\n",
       "        [ 21.,  38.],\n",
       "        [104., 118.],\n",
       "        [ 57.,  69.],\n",
       "        [ 82., 100.],\n",
       "        [118., 134.],\n",
       "        [ 20.,  38.],\n",
       "        [102., 120.]])"
      ]
     },
     "execution_count": 21,
     "metadata": {},
     "output_type": "execute_result"
    }
   ],
   "source": [
    "targets"
   ]
  },
  {
   "cell_type": "code",
   "execution_count": 22,
   "id": "a87a3350",
   "metadata": {},
   "outputs": [
    {
     "data": {
      "text/plain": [
       "tensor([[53.5668, 67.4634]], grad_fn=<AddmmBackward>)"
      ]
     },
     "execution_count": 22,
     "metadata": {},
     "output_type": "execute_result"
    }
   ],
   "source": [
    "model(torch.tensor([[75, 63, 44.]]))"
   ]
  },
  {
   "cell_type": "code",
   "execution_count": 23,
   "id": "0feff158",
   "metadata": {},
   "outputs": [],
   "source": [
    "# import jovian"
   ]
  },
  {
   "cell_type": "code",
   "execution_count": 24,
   "id": "2ce73e2c",
   "metadata": {},
   "outputs": [],
   "source": [
    "# jovian.commit(project='pytorch_linear_regression_using_builtins')"
   ]
  },
  {
   "cell_type": "code",
   "execution_count": null,
   "id": "cfb3ba26",
   "metadata": {},
   "outputs": [],
   "source": []
  }
 ],
 "metadata": {
  "kernelspec": {
   "display_name": "Python 3",
   "language": "python",
   "name": "python3"
  },
  "language_info": {
   "codemirror_mode": {
    "name": "ipython",
    "version": 3
   },
   "file_extension": ".py",
   "mimetype": "text/x-python",
   "name": "python",
   "nbconvert_exporter": "python",
   "pygments_lexer": "ipython3",
   "version": "3.7.10"
  }
 },
 "nbformat": 4,
 "nbformat_minor": 5
}
