{
 "cells": [
  {
   "cell_type": "code",
   "execution_count": 1,
   "id": "ab5cf2b3",
   "metadata": {},
   "outputs": [],
   "source": [
    "import torch\n",
    "import torchvision \n",
    "from torchvision.datasets import MNIST\n",
    "import torchvision.transforms as transforms"
   ]
  },
  {
   "cell_type": "code",
   "execution_count": 2,
   "id": "3d3e622b",
   "metadata": {},
   "outputs": [],
   "source": [
    "dataset = MNIST(root='./data', download=True, transform = transforms.ToTensor())"
   ]
  },
  {
   "cell_type": "code",
   "execution_count": 3,
   "id": "47bb4dd0",
   "metadata": {},
   "outputs": [
    {
     "data": {
      "text/plain": [
       "60000"
      ]
     },
     "execution_count": 3,
     "metadata": {},
     "output_type": "execute_result"
    }
   ],
   "source": [
    "len(dataset)"
   ]
  },
  {
   "cell_type": "code",
   "execution_count": 4,
   "id": "c51d3c1d",
   "metadata": {},
   "outputs": [],
   "source": [
    "test_dataset = MNIST(root='./data', train = False)"
   ]
  },
  {
   "cell_type": "code",
   "execution_count": 5,
   "id": "f27dc68f",
   "metadata": {},
   "outputs": [
    {
     "data": {
      "text/plain": [
       "10000"
      ]
     },
     "execution_count": 5,
     "metadata": {},
     "output_type": "execute_result"
    }
   ],
   "source": [
    "len(test_dataset)"
   ]
  },
  {
   "cell_type": "code",
   "execution_count": 6,
   "id": "8cea04ca",
   "metadata": {},
   "outputs": [],
   "source": [
    "import matplotlib.pyplot as plt\n",
    "%matplotlib inline"
   ]
  },
  {
   "cell_type": "code",
   "execution_count": 7,
   "id": "44ef93b2",
   "metadata": {},
   "outputs": [],
   "source": [
    "# image, label = dataset[0]\n",
    "# plt.imshow(image, cmap = 'gray')\n",
    "# print(\"Label:\", label)"
   ]
  },
  {
   "cell_type": "code",
   "execution_count": 8,
   "id": "52f29964",
   "metadata": {},
   "outputs": [
    {
     "data": {
      "text/plain": [
       "(50000, 10000)"
      ]
     },
     "execution_count": 8,
     "metadata": {},
     "output_type": "execute_result"
    }
   ],
   "source": [
    "from torch.utils.data import random_split\n",
    "\n",
    "train_ds, val_ds = random_split(dataset, [50000, 10000])\n",
    "len(train_ds), len(val_ds)"
   ]
  },
  {
   "cell_type": "code",
   "execution_count": 9,
   "id": "5c2abb19",
   "metadata": {},
   "outputs": [
    {
     "data": {
      "text/plain": [
       "Dataset MNIST\n",
       "    Number of datapoints: 60000\n",
       "    Root location: ./data\n",
       "    Split: Train\n",
       "    StandardTransform\n",
       "Transform: ToTensor()"
      ]
     },
     "execution_count": 9,
     "metadata": {},
     "output_type": "execute_result"
    }
   ],
   "source": [
    "train_ds.dataset"
   ]
  },
  {
   "cell_type": "code",
   "execution_count": 10,
   "id": "5637c913",
   "metadata": {},
   "outputs": [],
   "source": [
    "from torch.utils.data import DataLoader\n",
    "\n",
    "batch_size = 128\n",
    "\n",
    "train_loader = DataLoader(train_ds, batch_size, shuffle=True)\n",
    "val_loader = DataLoader(val_ds, batch_size)"
   ]
  },
  {
   "cell_type": "code",
   "execution_count": 11,
   "id": "0f49ff22",
   "metadata": {},
   "outputs": [],
   "source": [
    "import torch.nn as nn\n",
    "import torch.nn.functional as F"
   ]
  },
  {
   "cell_type": "code",
   "execution_count": 12,
   "id": "436a79dc",
   "metadata": {},
   "outputs": [],
   "source": [
    "input_size = 28*28\n",
    "num_classes = 10\n"
   ]
  },
  {
   "cell_type": "code",
   "execution_count": 13,
   "id": "a3b11979",
   "metadata": {},
   "outputs": [],
   "source": [
    "class MNISTModel(nn.Module):\n",
    "    def __init__(self):\n",
    "        super().__init__()\n",
    "        self.linear = nn.Linear(input_size, num_classes)\n",
    "        \n",
    "    def forward(self, xb):\n",
    "        xb = xb.reshape(-1, input_size)\n",
    "        out = self.linear(xb)\n",
    "        return out\n",
    "    \n",
    "    def training_step(self, batch):\n",
    "        images, labels = batch\n",
    "        out = self(images)\n",
    "        loss = F.cross_entropy(out, labels)\n",
    "        return loss\n",
    "    \n",
    "    def validation_step(self, batch):\n",
    "        images, labels = batch\n",
    "        out = self(images)\n",
    "        loss = F.cross_entropy(out, labels)\n",
    "        acc = accuracy(out, labels)\n",
    "        return {'val_loss':loss, 'val_acc':acc}\n",
    "    \n",
    "    def validation_epoch_end(self, outputs):\n",
    "        batch_losses = [x['val_loss'] for x in outputs]\n",
    "        epoch_loss = torch.stack(batch_losses).mean()   # Combine losses\n",
    "        batch_accs = [x['val_acc'] for x in outputs]\n",
    "        epoch_acc = torch.stack(batch_accs).mean()      # Combine accuracies\n",
    "        return {'val_loss': epoch_loss.item(), 'val_acc': epoch_acc.item()}\n",
    "    \n",
    "    def epoch_end(self, epoch, result):\n",
    "        print(\"Epoch [{}], val_loss: {:.4f}, val_acc: {:.4f}\".format(epoch, result['val_loss'], result['val_acc']))\n",
    "        "
   ]
  },
  {
   "cell_type": "code",
   "execution_count": 14,
   "id": "759bddbc",
   "metadata": {},
   "outputs": [],
   "source": [
    "def fit(epochs, lr, model, train_loader, val_loader, opt_func=torch.optim.SGD):\n",
    "    opt = opt_func(model.parameters(), lr)\n",
    "    history = []\n",
    "\n",
    "    for epoch in range(epochs):\n",
    "        for batch in train_loader:\n",
    "            loss = model.training_step(batch)\n",
    "            loss.backward()\n",
    "            opt.step()\n",
    "            opt.zero_grad()\n",
    "\n",
    "        result = evaluate(model, val_loader)\n",
    "        model.epoch_end(epoch, result)\n",
    "        history.append(result)\n",
    "    return history\n",
    "\n",
    "def evaluate(model, val_loader):\n",
    "    outputs = [model.validation_step(batch) for batch in val_loader]\n",
    "    return model.validation_epoch_end(outputs)\n",
    "\n",
    "def accuracy(outputs, labels):\n",
    "    _, preds = torch.max(outputs, dim=1)\n",
    "    return torch.tensor(torch.sum(preds == labels).item() / len(preds))"
   ]
  },
  {
   "cell_type": "code",
   "execution_count": 15,
   "id": "83501d99",
   "metadata": {},
   "outputs": [],
   "source": [
    "model = MNISTModel()"
   ]
  },
  {
   "cell_type": "code",
   "execution_count": 16,
   "id": "4df08d18",
   "metadata": {},
   "outputs": [
    {
     "data": {
      "text/plain": [
       "{'val_loss': 2.335764169692993, 'val_acc': 0.10799050331115723}"
      ]
     },
     "execution_count": 16,
     "metadata": {},
     "output_type": "execute_result"
    }
   ],
   "source": [
    "result0 = evaluate(model, val_loader)\n",
    "result0"
   ]
  },
  {
   "cell_type": "code",
   "execution_count": 17,
   "id": "cdd0e1a3",
   "metadata": {},
   "outputs": [
    {
     "name": "stdout",
     "output_type": "stream",
     "text": [
      "Epoch [0], val_loss: 1.9578, val_acc: 0.6275\n",
      "Epoch [1], val_loss: 1.6803, val_acc: 0.7381\n",
      "Epoch [2], val_loss: 1.4742, val_acc: 0.7753\n",
      "Epoch [3], val_loss: 1.3192, val_acc: 0.7947\n",
      "Epoch [4], val_loss: 1.2004, val_acc: 0.8098\n",
      "Epoch [5], val_loss: 1.1072, val_acc: 0.8179\n",
      "Epoch [6], val_loss: 1.0325, val_acc: 0.8238\n",
      "Epoch [7], val_loss: 0.9716, val_acc: 0.8295\n",
      "Epoch [8], val_loss: 0.9209, val_acc: 0.8345\n",
      "Epoch [9], val_loss: 0.8781, val_acc: 0.8371\n",
      "Epoch [10], val_loss: 0.8415, val_acc: 0.8404\n",
      "Epoch [11], val_loss: 0.8098, val_acc: 0.8439\n",
      "Epoch [12], val_loss: 0.7821, val_acc: 0.8461\n",
      "Epoch [13], val_loss: 0.7576, val_acc: 0.8492\n",
      "Epoch [14], val_loss: 0.7359, val_acc: 0.8515\n",
      "Epoch [15], val_loss: 0.7164, val_acc: 0.8529\n",
      "Epoch [16], val_loss: 0.6989, val_acc: 0.8546\n",
      "Epoch [17], val_loss: 0.6829, val_acc: 0.8561\n",
      "Epoch [18], val_loss: 0.6684, val_acc: 0.8574\n",
      "Epoch [19], val_loss: 0.6550, val_acc: 0.8592\n",
      "Epoch [20], val_loss: 0.6428, val_acc: 0.8604\n",
      "Epoch [21], val_loss: 0.6315, val_acc: 0.8613\n",
      "Epoch [22], val_loss: 0.6210, val_acc: 0.8618\n",
      "Epoch [23], val_loss: 0.6112, val_acc: 0.8631\n",
      "Epoch [24], val_loss: 0.6022, val_acc: 0.8640\n",
      "Epoch [25], val_loss: 0.5937, val_acc: 0.8644\n",
      "Epoch [26], val_loss: 0.5857, val_acc: 0.8649\n",
      "Epoch [27], val_loss: 0.5782, val_acc: 0.8657\n",
      "Epoch [28], val_loss: 0.5712, val_acc: 0.8667\n",
      "Epoch [29], val_loss: 0.5645, val_acc: 0.8677\n",
      "Epoch [30], val_loss: 0.5582, val_acc: 0.8686\n",
      "Epoch [31], val_loss: 0.5523, val_acc: 0.8696\n",
      "Epoch [32], val_loss: 0.5466, val_acc: 0.8705\n",
      "Epoch [33], val_loss: 0.5412, val_acc: 0.8706\n",
      "Epoch [34], val_loss: 0.5361, val_acc: 0.8711\n",
      "Epoch [35], val_loss: 0.5312, val_acc: 0.8719\n",
      "Epoch [36], val_loss: 0.5265, val_acc: 0.8722\n",
      "Epoch [37], val_loss: 0.5221, val_acc: 0.8729\n",
      "Epoch [38], val_loss: 0.5178, val_acc: 0.8736\n",
      "Epoch [39], val_loss: 0.5137, val_acc: 0.8745\n",
      "Epoch [40], val_loss: 0.5098, val_acc: 0.8748\n",
      "Epoch [41], val_loss: 0.5060, val_acc: 0.8754\n",
      "Epoch [42], val_loss: 0.5024, val_acc: 0.8758\n",
      "Epoch [43], val_loss: 0.4989, val_acc: 0.8763\n",
      "Epoch [44], val_loss: 0.4956, val_acc: 0.8770\n",
      "Epoch [45], val_loss: 0.4923, val_acc: 0.8778\n",
      "Epoch [46], val_loss: 0.4892, val_acc: 0.8787\n",
      "Epoch [47], val_loss: 0.4862, val_acc: 0.8791\n",
      "Epoch [48], val_loss: 0.4833, val_acc: 0.8795\n",
      "Epoch [49], val_loss: 0.4805, val_acc: 0.8798\n",
      "Epoch [50], val_loss: 0.4777, val_acc: 0.8799\n",
      "Epoch [51], val_loss: 0.4751, val_acc: 0.8804\n",
      "Epoch [52], val_loss: 0.4726, val_acc: 0.8805\n",
      "Epoch [53], val_loss: 0.4701, val_acc: 0.8807\n",
      "Epoch [54], val_loss: 0.4677, val_acc: 0.8809\n",
      "Epoch [55], val_loss: 0.4653, val_acc: 0.8813\n",
      "Epoch [56], val_loss: 0.4631, val_acc: 0.8817\n",
      "Epoch [57], val_loss: 0.4608, val_acc: 0.8819\n",
      "Epoch [58], val_loss: 0.4587, val_acc: 0.8823\n",
      "Epoch [59], val_loss: 0.4566, val_acc: 0.8826\n",
      "Epoch [60], val_loss: 0.4546, val_acc: 0.8829\n",
      "Epoch [61], val_loss: 0.4526, val_acc: 0.8833\n",
      "Epoch [62], val_loss: 0.4507, val_acc: 0.8836\n",
      "Epoch [63], val_loss: 0.4488, val_acc: 0.8842\n",
      "Epoch [64], val_loss: 0.4470, val_acc: 0.8845\n",
      "Epoch [65], val_loss: 0.4452, val_acc: 0.8849\n",
      "Epoch [66], val_loss: 0.4435, val_acc: 0.8852\n",
      "Epoch [67], val_loss: 0.4418, val_acc: 0.8854\n",
      "Epoch [68], val_loss: 0.4401, val_acc: 0.8857\n",
      "Epoch [69], val_loss: 0.4385, val_acc: 0.8860\n",
      "Epoch [70], val_loss: 0.4369, val_acc: 0.8863\n",
      "Epoch [71], val_loss: 0.4354, val_acc: 0.8865\n",
      "Epoch [72], val_loss: 0.4339, val_acc: 0.8868\n",
      "Epoch [73], val_loss: 0.4324, val_acc: 0.8870\n",
      "Epoch [74], val_loss: 0.4309, val_acc: 0.8879\n",
      "Epoch [75], val_loss: 0.4295, val_acc: 0.8879\n",
      "Epoch [76], val_loss: 0.4281, val_acc: 0.8883\n",
      "Epoch [77], val_loss: 0.4268, val_acc: 0.8885\n",
      "Epoch [78], val_loss: 0.4255, val_acc: 0.8890\n",
      "Epoch [79], val_loss: 0.4242, val_acc: 0.8896\n",
      "Epoch [80], val_loss: 0.4229, val_acc: 0.8897\n",
      "Epoch [81], val_loss: 0.4216, val_acc: 0.8899\n",
      "Epoch [82], val_loss: 0.4204, val_acc: 0.8898\n",
      "Epoch [83], val_loss: 0.4192, val_acc: 0.8901\n",
      "Epoch [84], val_loss: 0.4180, val_acc: 0.8901\n",
      "Epoch [85], val_loss: 0.4168, val_acc: 0.8906\n",
      "Epoch [86], val_loss: 0.4157, val_acc: 0.8907\n",
      "Epoch [87], val_loss: 0.4146, val_acc: 0.8909\n",
      "Epoch [88], val_loss: 0.4135, val_acc: 0.8912\n",
      "Epoch [89], val_loss: 0.4124, val_acc: 0.8916\n",
      "Epoch [90], val_loss: 0.4114, val_acc: 0.8915\n",
      "Epoch [91], val_loss: 0.4103, val_acc: 0.8917\n",
      "Epoch [92], val_loss: 0.4093, val_acc: 0.8919\n",
      "Epoch [93], val_loss: 0.4083, val_acc: 0.8920\n",
      "Epoch [94], val_loss: 0.4073, val_acc: 0.8921\n",
      "Epoch [95], val_loss: 0.4063, val_acc: 0.8923\n",
      "Epoch [96], val_loss: 0.4054, val_acc: 0.8922\n",
      "Epoch [97], val_loss: 0.4044, val_acc: 0.8924\n",
      "Epoch [98], val_loss: 0.4035, val_acc: 0.8926\n",
      "Epoch [99], val_loss: 0.4026, val_acc: 0.8925\n",
      "Epoch [100], val_loss: 0.4017, val_acc: 0.8925\n",
      "Epoch [101], val_loss: 0.4008, val_acc: 0.8927\n",
      "Epoch [102], val_loss: 0.3999, val_acc: 0.8928\n",
      "Epoch [103], val_loss: 0.3991, val_acc: 0.8933\n",
      "Epoch [104], val_loss: 0.3982, val_acc: 0.8933\n",
      "Epoch [105], val_loss: 0.3974, val_acc: 0.8935\n",
      "Epoch [106], val_loss: 0.3966, val_acc: 0.8937\n",
      "Epoch [107], val_loss: 0.3958, val_acc: 0.8938\n",
      "Epoch [108], val_loss: 0.3950, val_acc: 0.8937\n",
      "Epoch [109], val_loss: 0.3942, val_acc: 0.8939\n",
      "Epoch [110], val_loss: 0.3934, val_acc: 0.8941\n",
      "Epoch [111], val_loss: 0.3927, val_acc: 0.8942\n",
      "Epoch [112], val_loss: 0.3919, val_acc: 0.8945\n",
      "Epoch [113], val_loss: 0.3912, val_acc: 0.8947\n",
      "Epoch [114], val_loss: 0.3904, val_acc: 0.8948\n",
      "Epoch [115], val_loss: 0.3897, val_acc: 0.8950\n",
      "Epoch [116], val_loss: 0.3890, val_acc: 0.8950\n",
      "Epoch [117], val_loss: 0.3883, val_acc: 0.8951\n",
      "Epoch [118], val_loss: 0.3876, val_acc: 0.8953\n",
      "Epoch [119], val_loss: 0.3869, val_acc: 0.8953\n",
      "Epoch [120], val_loss: 0.3863, val_acc: 0.8954\n",
      "Epoch [121], val_loss: 0.3856, val_acc: 0.8957\n",
      "Epoch [122], val_loss: 0.3849, val_acc: 0.8960\n",
      "Epoch [123], val_loss: 0.3843, val_acc: 0.8961\n",
      "Epoch [124], val_loss: 0.3836, val_acc: 0.8961\n",
      "Epoch [125], val_loss: 0.3830, val_acc: 0.8961\n",
      "Epoch [126], val_loss: 0.3824, val_acc: 0.8962\n",
      "Epoch [127], val_loss: 0.3818, val_acc: 0.8961\n",
      "Epoch [128], val_loss: 0.3812, val_acc: 0.8960\n",
      "Epoch [129], val_loss: 0.3806, val_acc: 0.8964\n",
      "Epoch [130], val_loss: 0.3800, val_acc: 0.8963\n",
      "Epoch [131], val_loss: 0.3794, val_acc: 0.8963\n",
      "Epoch [132], val_loss: 0.3788, val_acc: 0.8964\n",
      "Epoch [133], val_loss: 0.3782, val_acc: 0.8965\n",
      "Epoch [134], val_loss: 0.3777, val_acc: 0.8966\n",
      "Epoch [135], val_loss: 0.3771, val_acc: 0.8970\n",
      "Epoch [136], val_loss: 0.3765, val_acc: 0.8971\n",
      "Epoch [137], val_loss: 0.3760, val_acc: 0.8972\n",
      "Epoch [138], val_loss: 0.3754, val_acc: 0.8973\n",
      "Epoch [139], val_loss: 0.3749, val_acc: 0.8973\n",
      "Epoch [140], val_loss: 0.3744, val_acc: 0.8973\n",
      "Epoch [141], val_loss: 0.3739, val_acc: 0.8975\n",
      "Epoch [142], val_loss: 0.3733, val_acc: 0.8975\n",
      "Epoch [143], val_loss: 0.3728, val_acc: 0.8975\n",
      "Epoch [144], val_loss: 0.3723, val_acc: 0.8975\n",
      "Epoch [145], val_loss: 0.3718, val_acc: 0.8973\n",
      "Epoch [146], val_loss: 0.3713, val_acc: 0.8975\n",
      "Epoch [147], val_loss: 0.3708, val_acc: 0.8977\n",
      "Epoch [148], val_loss: 0.3703, val_acc: 0.8979\n",
      "Epoch [149], val_loss: 0.3699, val_acc: 0.8980\n",
      "Epoch [150], val_loss: 0.3694, val_acc: 0.8981\n",
      "Epoch [151], val_loss: 0.3689, val_acc: 0.8981\n",
      "Epoch [152], val_loss: 0.3684, val_acc: 0.8983\n",
      "Epoch [153], val_loss: 0.3680, val_acc: 0.8983\n",
      "Epoch [154], val_loss: 0.3675, val_acc: 0.8985\n",
      "Epoch [155], val_loss: 0.3671, val_acc: 0.8987\n",
      "Epoch [156], val_loss: 0.3666, val_acc: 0.8986\n",
      "Epoch [157], val_loss: 0.3662, val_acc: 0.8988\n",
      "Epoch [158], val_loss: 0.3657, val_acc: 0.8987\n",
      "Epoch [159], val_loss: 0.3653, val_acc: 0.8987\n",
      "Epoch [160], val_loss: 0.3649, val_acc: 0.8988\n",
      "Epoch [161], val_loss: 0.3644, val_acc: 0.8989\n",
      "Epoch [162], val_loss: 0.3640, val_acc: 0.8989\n",
      "Epoch [163], val_loss: 0.3636, val_acc: 0.8988\n",
      "Epoch [164], val_loss: 0.3632, val_acc: 0.8989\n",
      "Epoch [165], val_loss: 0.3628, val_acc: 0.8990\n",
      "Epoch [166], val_loss: 0.3624, val_acc: 0.8991\n",
      "Epoch [167], val_loss: 0.3619, val_acc: 0.8990\n",
      "Epoch [168], val_loss: 0.3616, val_acc: 0.8989\n",
      "Epoch [169], val_loss: 0.3612, val_acc: 0.8989\n",
      "Epoch [170], val_loss: 0.3608, val_acc: 0.8991\n",
      "Epoch [171], val_loss: 0.3604, val_acc: 0.8991\n",
      "Epoch [172], val_loss: 0.3600, val_acc: 0.8992\n",
      "Epoch [173], val_loss: 0.3596, val_acc: 0.8991\n",
      "Epoch [174], val_loss: 0.3592, val_acc: 0.8990\n",
      "Epoch [175], val_loss: 0.3588, val_acc: 0.8991\n",
      "Epoch [176], val_loss: 0.3585, val_acc: 0.8991\n"
     ]
    },
    {
     "name": "stdout",
     "output_type": "stream",
     "text": [
      "Epoch [177], val_loss: 0.3581, val_acc: 0.8992\n",
      "Epoch [178], val_loss: 0.3577, val_acc: 0.8993\n",
      "Epoch [179], val_loss: 0.3574, val_acc: 0.8993\n",
      "Epoch [180], val_loss: 0.3570, val_acc: 0.8995\n",
      "Epoch [181], val_loss: 0.3567, val_acc: 0.8996\n",
      "Epoch [182], val_loss: 0.3563, val_acc: 0.8997\n",
      "Epoch [183], val_loss: 0.3560, val_acc: 0.8998\n",
      "Epoch [184], val_loss: 0.3556, val_acc: 0.8999\n",
      "Epoch [185], val_loss: 0.3553, val_acc: 0.9002\n",
      "Epoch [186], val_loss: 0.3549, val_acc: 0.9003\n",
      "Epoch [187], val_loss: 0.3546, val_acc: 0.9004\n",
      "Epoch [188], val_loss: 0.3542, val_acc: 0.9004\n",
      "Epoch [189], val_loss: 0.3539, val_acc: 0.9008\n",
      "Epoch [190], val_loss: 0.3536, val_acc: 0.9007\n",
      "Epoch [191], val_loss: 0.3532, val_acc: 0.9007\n",
      "Epoch [192], val_loss: 0.3529, val_acc: 0.9012\n",
      "Epoch [193], val_loss: 0.3526, val_acc: 0.9011\n",
      "Epoch [194], val_loss: 0.3523, val_acc: 0.9014\n",
      "Epoch [195], val_loss: 0.3520, val_acc: 0.9015\n",
      "Epoch [196], val_loss: 0.3516, val_acc: 0.9015\n",
      "Epoch [197], val_loss: 0.3513, val_acc: 0.9019\n",
      "Epoch [198], val_loss: 0.3510, val_acc: 0.9020\n",
      "Epoch [199], val_loss: 0.3507, val_acc: 0.9020\n"
     ]
    }
   ],
   "source": [
    "EPOCHS = 200\n",
    "history = fit(EPOCHS, 1e-3, model, train_loader, val_loader)"
   ]
  },
  {
   "cell_type": "code",
   "execution_count": 35,
   "id": "1ec095ae",
   "metadata": {},
   "outputs": [
    {
     "data": {
      "image/png": "[encoded data removed]",
      "text/plain": [
       "<Figure size 1800x1800 with 1 Axes>"
      ]
     },
     "metadata": {
      "needs_background": "light"
     },
     "output_type": "display_data"
    }
   ],
   "source": [
    "accuracies = [result['val_acc'] for result in history]\n",
    "plt.figure(figsize=(25,25))\n",
    "plt.plot(accuracies, '-ro')\n",
    "plt.xlabel('epoch')\n",
    "plt.ylabel('accuracy')\n",
    "plt.title('Accuracy vs No. of epochs')\n",
    "plt.savefig('accuracies.png', dpi=500, bbox_inches='tight')"
   ]
  },
  {
   "cell_type": "code",
   "execution_count": 20,
   "id": "a59fe346",
   "metadata": {},
   "outputs": [],
   "source": [
    "torch.save(model.state_dict(), 'model/mnist-logistic-1.pth')"
   ]
  },
  {
   "cell_type": "markdown",
   "id": "604c7234",
   "metadata": {},
   "source": [
    "# Load"
   ]
  },
  {
   "cell_type": "code",
   "execution_count": 36,
   "id": "d637a7ce",
   "metadata": {},
   "outputs": [],
   "source": [
    "model2 = MNISTModel()"
   ]
  },
  {
   "cell_type": "code",
   "execution_count": 37,
   "id": "228ed683",
   "metadata": {},
   "outputs": [
    {
     "data": {
      "text/plain": [
       "<All keys matched successfully>"
      ]
     },
     "execution_count": 37,
     "metadata": {},
     "output_type": "execute_result"
    }
   ],
   "source": [
    "model2.load_state_dict(torch.load('model/mnist-logistic-1.pth'))"
   ]
  },
  {
   "cell_type": "code",
   "execution_count": 38,
   "id": "455afdfa",
   "metadata": {},
   "outputs": [
    {
     "data": {
      "text/plain": [
       "OrderedDict([('linear.weight',\n",
       "              tensor([[ 0.0083,  0.0033, -0.0113,  ..., -0.0116, -0.0127,  0.0071],\n",
       "                      [ 0.0128,  0.0063,  0.0099,  ..., -0.0113,  0.0251,  0.0332],\n",
       "                      [ 0.0251,  0.0275,  0.0069,  ...,  0.0059, -0.0188, -0.0246],\n",
       "                      ...,\n",
       "                      [-0.0159,  0.0134, -0.0293,  ...,  0.0157,  0.0112,  0.0036],\n",
       "                      [ 0.0036, -0.0026, -0.0039,  ...,  0.0303, -0.0204,  0.0226],\n",
       "                      [-0.0070, -0.0073, -0.0302,  ..., -0.0109, -0.0259, -0.0078]])),\n",
       "             ('linear.bias',\n",
       "              tensor([-0.1156,  0.2017, -0.0242, -0.1251,  0.0629,  0.3580, -0.0047,  0.2100,\n",
       "                      -0.5098, -0.0780]))])"
      ]
     },
     "execution_count": 38,
     "metadata": {},
     "output_type": "execute_result"
    }
   ],
   "source": [
    "model2.state_dict()"
   ]
  },
  {
   "cell_type": "markdown",
   "id": "6ffef0d2",
   "metadata": {},
   "source": [
    "# Testing with Individual Images"
   ]
  },
  {
   "cell_type": "code",
   "execution_count": 39,
   "id": "0e047f1d",
   "metadata": {},
   "outputs": [],
   "source": [
    "test_dataset = MNIST(root='./data', train = False, transform = transforms.ToTensor())"
   ]
  },
  {
   "cell_type": "code",
   "execution_count": 40,
   "id": "07599e1c",
   "metadata": {},
   "outputs": [
    {
     "name": "stdout",
     "output_type": "stream",
     "text": [
      "Shape:  torch.Size([1, 28, 28])\n",
      "Label:  7\n"
     ]
    },
    {
     "data": {
      "image/png": "[encoded data removed]",
      "text/plain": [
       "<Figure size 432x288 with 1 Axes>"
      ]
     },
     "metadata": {
      "needs_background": "light"
     },
     "output_type": "display_data"
    }
   ],
   "source": [
    "img, label = test_dataset[0]\n",
    "plt.imshow(img[0], cmap='gray')\n",
    "print('Shape: ', img.shape)\n",
    "print('Label: ', label)"
   ]
  },
  {
   "cell_type": "code",
   "execution_count": 41,
   "id": "55c8cc53",
   "metadata": {},
   "outputs": [],
   "source": [
    "def predict_image(img, model):\n",
    "    xb = img.unsqueeze(0)\n",
    "    yb = model(xb)\n",
    "    _, preds = torch.max(yb, dim=1)\n",
    "    return preds[0].item()"
   ]
  },
  {
   "cell_type": "code",
   "execution_count": 42,
   "id": "3c29744b",
   "metadata": {},
   "outputs": [
    {
     "name": "stdout",
     "output_type": "stream",
     "text": [
      "Label: 7 Predicted: 7\n"
     ]
    },
    {
     "data": {
      "image/png": "[encoded data removed]",
      "text/plain": [
       "<Figure size 432x288 with 1 Axes>"
      ]
     },
     "metadata": {
      "needs_background": "light"
     },
     "output_type": "display_data"
    }
   ],
   "source": [
    "img, label = test_dataset[0]\n",
    "plt.imshow(img[0], cmap='gray')\n",
    "print('Label:', label, 'Predicted:', predict_image(img, model))"
   ]
  },
  {
   "cell_type": "markdown",
   "id": "d7051b49",
   "metadata": {},
   "source": [
    "# Done and Dusted"
   ]
  },
  {
   "cell_type": "code",
   "execution_count": null,
   "id": "d09c79f0",
   "metadata": {},
   "outputs": [],
   "source": []
  }
 ],
 "metadata": {
  "kernelspec": {
   "display_name": "Python 3",
   "language": "python",
   "name": "python3"
  },
  "language_info": {
   "codemirror_mode": {
    "name": "ipython",
    "version": 3
   },
   "file_extension": ".py",
   "mimetype": "text/x-python",
   "name": "python",
   "nbconvert_exporter": "python",
   "pygments_lexer": "ipython3",
   "version": "3.7.10"
  }
 },
 "nbformat": 4,
 "nbformat_minor": 5
}
